{
 "cells": [
  {
   "cell_type": "code",
   "execution_count": 3,
   "id": "b7dde2eb",
   "metadata": {},
   "outputs": [
    {
     "name": "stdout",
     "output_type": "stream",
     "text": [
      "Collecting sewar\n",
      "  Downloading sewar-0.4.5.tar.gz (11 kB)\n",
      "Requirement already satisfied: numpy in c:\\users\\lenovo\\anaconda3\\lib\\site-packages (from sewar) (1.20.3)\n",
      "Requirement already satisfied: scipy in c:\\users\\lenovo\\anaconda3\\lib\\site-packages (from sewar) (1.8.1)\n",
      "Requirement already satisfied: Pillow in c:\\users\\lenovo\\anaconda3\\lib\\site-packages (from sewar) (8.4.0)\n",
      "Building wheels for collected packages: sewar\n",
      "  Building wheel for sewar (setup.py): started\n",
      "  Building wheel for sewar (setup.py): finished with status 'done'\n",
      "  Created wheel for sewar: filename=sewar-0.4.5-py3-none-any.whl size=10610 sha256=17d7072c9e097e2a8f7951369c29241b2e54b69bfbf06518ba0431103b8a21e7\n",
      "  Stored in directory: c:\\users\\lenovo\\appdata\\local\\pip\\cache\\wheels\\90\\c1\\d2\\90faa299f5473d447a9a489377305840b7268c92b79bb5e000\n",
      "Successfully built sewar\n",
      "Installing collected packages: sewar\n",
      "Successfully installed sewar-0.4.5\n",
      "Note: you may need to restart the kernel to use updated packages.\n"
     ]
    }
   ],
   "source": [
    "pip install sewar"
   ]
  },
  {
   "cell_type": "code",
   "execution_count": 6,
   "id": "533e1ca7",
   "metadata": {},
   "outputs": [],
   "source": [
    "import skimage\n",
    "import sewar\n",
    "import cv2\n",
    "import numpy as np \n",
    "from sewar import full_ref\n",
    "from skimage import measure , metrics"
   ]
  },
  {
   "cell_type": "code",
   "execution_count": 19,
   "id": "65bdcca2",
   "metadata": {},
   "outputs": [],
   "source": [
    "ref_img = cv2.imread(\"lena.tif\" , 1)\n",
    "img = cv2. imread (\"lena2.tif\" , 1)"
   ]
  },
  {
   "cell_type": "code",
   "execution_count": 20,
   "id": "5b02fe2a",
   "metadata": {},
   "outputs": [
    {
     "name": "stdout",
     "output_type": "stream",
     "text": [
      "MSE: based on scikit_image =  105.63649495442708\n"
     ]
    }
   ],
   "source": [
    "mse_sking = metrics.mean_squared_error(ref_img , img)\n",
    "print(\"MSE: based on scikit_image = \" , mse_sking)"
   ]
  },
  {
   "cell_type": "code",
   "execution_count": 21,
   "id": "ab010332",
   "metadata": {},
   "outputs": [
    {
     "name": "stdout",
     "output_type": "stream",
     "text": [
      "PSNR: based on scikit_image =  27.892663780945224\n"
     ]
    }
   ],
   "source": [
    "psnr_sking = metrics.peak_signal_noise_ratio(ref_img , img , data_range=None)\n",
    "print(\"PSNR: based on scikit_image = \" , psnr_sking)\n",
    "\n"
   ]
  },
  {
   "cell_type": "code",
   "execution_count": null,
   "id": "be800a0e",
   "metadata": {},
   "outputs": [],
   "source": []
  }
 ],
 "metadata": {
  "kernelspec": {
   "display_name": "Python 3 (ipykernel)",
   "language": "python",
   "name": "python3"
  },
  "language_info": {
   "codemirror_mode": {
    "name": "ipython",
    "version": 3
   },
   "file_extension": ".py",
   "mimetype": "text/x-python",
   "name": "python",
   "nbconvert_exporter": "python",
   "pygments_lexer": "ipython3",
   "version": "3.9.7"
  }
 },
 "nbformat": 4,
 "nbformat_minor": 5
}
